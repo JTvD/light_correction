{
 "cells": [
  {
   "cell_type": "markdown",
   "metadata": {},
   "source": [
    "# Fit sensors\n",
    "Example of how to convert from one sensor to another, not the best way but often it's enough."
   ]
  },
  {
   "cell_type": "code",
   "execution_count": 40,
   "metadata": {},
   "outputs": [],
   "source": [
    "import numpy as np\n",
    "import pandas as pd\n",
    "import plotly.graph_objects as go"
   ]
  },
  {
   "cell_type": "code",
   "execution_count": null,
   "metadata": {},
   "outputs": [],
   "source": [
    "# Load the CSVs\n",
    "ref_df = pd.read_csv('data/reference.csv', sep = ';')\n",
    "sens_df = pd.read_csv('data/sensor_data.csv', sep = ';')\n",
    "\n",
    "# Convert to datetime\n",
    "ref_df['date'] = pd.to_datetime(ref_df['date'], format='%H:%M:%S')\n",
    "sens_df['date'] = pd.to_datetime(sens_df['date'], format='%H:%M:%S')\n",
    "\n",
    "# Convert to floats, excel uses commas instead of dots\n",
    "# ref_df['umol/(m^2*s)'] = ref_df['umol/(m^2*s)'].str.replace(',', '.').astype(float)\n",
    "sens_df['Counts'] = sens_df['Counts'].str.replace(',', '.').astype(float)\n",
    "\n",
    "# Round to minutes\n",
    "ref_df['rounded_date'] = ref_df['date'].dt.round('min')\n",
    "sens_df['rounded_date'] = sens_df['date'].dt.round('min')\n",
    "\n",
    "# Resample to 5-minute intervals and calculate the mean\n",
    "ref_df.set_index('date', inplace=True)\n",
    "ref_df = ref_df.resample('5min').mean()\n",
    "ref_df.reset_index(inplace=True)\n",
    "ref_df['rounded_date'] = ref_df['date']\n",
    "\n",
    "sens_df.set_index('date', inplace=True)\n",
    "sens_df = sens_df.resample('5min').mean()\n",
    "sens_df.reset_index(inplace=True)\n",
    "sens_df['rounded_date'] = sens_df['date']\n",
    "\n",
    "ref_df.head()"
   ]
  },
  {
   "cell_type": "code",
   "execution_count": null,
   "metadata": {},
   "outputs": [],
   "source": [
    "sens_df.head()"
   ]
  },
  {
   "cell_type": "code",
   "execution_count": null,
   "metadata": {},
   "outputs": [],
   "source": [
    "# Merge the two dataframes to create a 'lookup' table from the sensor to the reference\n",
    "merged_df = pd.merge(sens_df, ref_df, on='rounded_date', how='left')\n",
    "# Drop all rows with any NaN values\n",
    "merged_df = merged_df.dropna()\n",
    "merged_df"
   ]
  },
  {
   "cell_type": "code",
   "execution_count": null,
   "metadata": {},
   "outputs": [],
   "source": [
    "# Scatterplot\n",
    "fig = go.Figure()\n",
    "fig.add_trace(go.Scatter(x=merged_df['Counts'], y=merged_df['umol/(m^2*s)'], mode='markers', name='Data'))\n",
    "fig.update_layout(title='Counts vs umol/(m^2*s)',\n",
    "                  xaxis_title='Counts',\n",
    "                  yaxis_title='umol/(m^2*s)')\n",
    "\n",
    "fig.show()"
   ]
  },
  {
   "cell_type": "code",
   "execution_count": 51,
   "metadata": {},
   "outputs": [],
   "source": [
    "# Sort the DataFrame by 'Counts' to ensure x in increaing, required for the fits\n",
    "merged_df = merged_df.sort_values(by='Counts')\n",
    "\n",
    "# Looks liniear, fit a line through the data\n",
    "x = merged_df['Counts']\n",
    "y = merged_df['umol/(m^2*s)']\n",
    "slope, intercept = np.polyfit(x, y, 1)\n",
    "\n",
    "# Fit a thrird order line\n",
    "coefficients = np.polyfit(x, y, 3)\n",
    "polynomial = np.poly1d(coefficients)"
   ]
  },
  {
   "cell_type": "code",
   "execution_count": null,
   "metadata": {},
   "outputs": [],
   "source": [
    "# Plot data with lines\n",
    "x_smooth = np.linspace(x.min(), x.max(), 500)\n",
    "y_lin = slope * x_smooth + intercept\n",
    "y_3thord = polynomial(x_smooth)\n",
    "\n",
    "# Create the plot\n",
    "fig = go.Figure()\n",
    "# Add scatter plot for original data\n",
    "fig.add_trace(go.Scatter(x=x, y=y, mode='markers', name='Data'))\n",
    "\n",
    "# Add line plot for linear interpolation\n",
    "fig.add_trace(go.Scatter(x=x_smooth, y=y_lin, mode='lines', name='Linear Interpolation'))\n",
    "\n",
    "# Add line plot for spline interpolation\n",
    "fig.add_trace(go.Scatter(x=x_smooth, y=y_3thord, mode='lines', name='3th order polynomial'))\n",
    "\n",
    "# Update layout\n",
    "fig.update_layout(title='Counts vs umol/(m^2*s) with Linear and Spline Interpolations',\n",
    "                  xaxis_title='Counts',\n",
    "                  yaxis_title='umol/(m^2*s)')\n",
    "\n",
    "# Show the plot\n",
    "fig.show()"
   ]
  },
  {
   "cell_type": "code",
   "execution_count": null,
   "metadata": {},
   "outputs": [],
   "source": [
    "# Calculate the residuals and RMSE\n",
    "poly_1d = np.poly1d([slope, intercept])\n",
    "y_fit = poly_1d(x)\n",
    "residual_lin = y - y_fit\n",
    "rmse = np.sqrt(np.mean(residual_lin**2))\n",
    "print(\"Liniear fit\")\n",
    "print(f\"Function: {slope:.2f}x + {intercept:.2f}\")\n",
    "print(f\"Root Mean Square Error (RMSE): {rmse} \\n\")\n",
    "\n",
    "# Print the coefficients and RMSE\n",
    "y_fit = polynomial(x)\n",
    "residuals = y - y_fit\n",
    "rmse = np.sqrt(np.mean(residuals**2))\n",
    "print(\"3th order fit\")\n",
    "print(f\"Polynomial coefficients: {coefficients}\")\n",
    "print(f\"Root Mean Square Error (RMSE): {rmse}\")"
   ]
  },
  {
   "cell_type": "code",
   "execution_count": null,
   "metadata": {},
   "outputs": [],
   "source": [
    "# Residual plot\n",
    "# If the residuals look randomly distributed around zero without any discernible patterns, it indicates a good fit.\n",
    "fig = go.Figure()\n",
    "\n",
    "fig.add_trace(go.Scatter(x=x, y=residual_lin, mode='markers', name='Residuals liniear fit'))\n",
    "fig.add_trace(go.Scatter(x=x, y=residuals, mode='markers', name='Residuals poly fit'))\n",
    "# Add horizontal line at y=0\n",
    "fig.add_trace(go.Scatter(x=[x.min(), x.max()], y=[0, 0], mode='lines', name='Zero Line', line=dict(color='red', dash='dash')))\n",
    "\n",
    "# Update layout\n",
    "fig.update_layout(title='Residual Plot',\n",
    "                  xaxis_title='Counts',\n",
    "                  yaxis_title='Residuals')\n",
    "\n",
    "# Show the plot\n",
    "fig.show()"
   ]
  }
 ],
 "metadata": {
  "kernelspec": {
   "display_name": "venv",
   "language": "python",
   "name": "python3"
  },
  "language_info": {
   "codemirror_mode": {
    "name": "ipython",
    "version": 3
   },
   "file_extension": ".py",
   "mimetype": "text/x-python",
   "name": "python",
   "nbconvert_exporter": "python",
   "pygments_lexer": "ipython3",
   "version": "3.11.9"
  }
 },
 "nbformat": 4,
 "nbformat_minor": 2
}
